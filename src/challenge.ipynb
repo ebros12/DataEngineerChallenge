{
 "cells": [
  {
   "cell_type": "markdown",
   "metadata": {},
   "source": [
    "En este archivo puedes escribir lo que estimes conveniente. Te recomendamos detallar tu solución y todas las suposiciones que estás considerando. Aquí puedes ejecutar las funciones que definiste en los otros archivos de la carpeta src, medir el tiempo, memoria, etc."
   ]
  },
  {
   "cell_type": "code",
   "execution_count": 1,
   "metadata": {},
   "outputs": [],
   "source": [
    "file_path = \"farmers-protest-tweets-2021-2-4.json\""
   ]
  },
  {
   "cell_type": "markdown",
   "metadata": {},
   "source": [
    "El objetivo de este algoritmo es identificar las top 10 fechas con más tweets y el usuario más activo en esas fechas. Para ello, se creo un algoritmo para el procesado de los tweets al usar las herramientas sugeridas se realizó un análisis de uso de memoria y tiempo de ejecución.\n",
    "\n",
    "El inicio de memoria fue de 55.9 MB y se estabilizó en 61.6 MB, lo que sugiere un aumento moderado en el uso de memoria a medida que se procesan los datos. La línea que procesa los tweets (json.loads(line)) se ejecutó 117,408 veces, indicando un volumen considerable de datos. El tiempo total de ejecución fue de 37.033 segundos, lo que sugiere la presencia de un cuello de botella.\n",
    "\n",
    "Para optimizar el rendimiento del algoritmo, propongo las siguientes mejoras:\n",
    "\n",
    "Leer por bloques: Esto puede ayudar a reducir el uso de memoria al evitar cargar todo el archivo en memoria.\n",
    "Usar Counter en lugar de defaultdict: Esto puede simplificar el código y mejorar el rendimiento.\n",
    "Filtrar por fechas y usuarios: Dado que solo necesitamos las fechas más activas, contar las fechas primero y luego procesar esas fechas para obtener los usuarios más activos puede ser más eficiente.\n",
    "En resumen, estas optimizaciones pueden resultar en un uso de memoria más eficiente y una mejora en el tiempo de ejecución."
   ]
  },
  {
   "cell_type": "code",
   "execution_count": 5,
   "metadata": {},
   "outputs": [
    {
     "name": "stdout",
     "output_type": "stream",
     "text": [
      "Ejecutando q1_time\n",
      "Tiempo de ejecución: 4.05 segundos\n",
      "Top 10 fechas con más tweets y el usuario más activo:\n",
      "Fecha: 2021-02-19, Usuario: Preetm91\n",
      "Fecha: 2021-02-18, Usuario: neetuanjle_nitu\n",
      "Fecha: 2021-02-17, Usuario: RaaJVinderkaur\n",
      "Fecha: 2021-02-13, Usuario: MaanDee08215437\n",
      "Fecha: 2021-02-12, Usuario: RanbirS00614606\n",
      "Fecha: 2021-02-21, Usuario: Surrypuria\n",
      "Fecha: 2021-02-23, Usuario: Surrypuria\n",
      "Fecha: 2021-02-15, Usuario: jot__b\n",
      "Fecha: 2021-02-16, Usuario: jot__b\n",
      "Fecha: 2021-02-14, Usuario: rebelpacifist\n",
      "\n",
      " Probando q1_memory\n",
      "Filename: c:\\Users\\011101011110\\Desktop\\prueba\\src\\q1_memory.py\n",
      "\n",
      "Line #    Mem usage    Increment  Occurrences   Line Contents\n",
      "=============================================================\n",
      "     7     78.5 MiB     78.5 MiB           1   @profile\n",
      "     8                                         def q1_memory(file_path: str) -> List[Tuple[datetime.date, str]]:\n",
      "     9     78.8 MiB    -10.1 MiB          27       \"\"\"\n",
      "    10                                             Procesa un archivo de tweets y devuelve las 10 fechas con más tweets,\n",
      "    11     78.5 MiB      0.0 MiB           1       junto con el usuario más activo en cada una de esas fechas.\n",
      "    12     79.1 MiB      0.0 MiB           2   \n",
      "    13     79.1 MiB -40412.0 MiB      117408       Args:\n",
      "    14     79.1 MiB -40414.1 MiB      117407           file_path (str): Ruta al archivo JSON que contiene los tweets.\n",
      "    15     79.1 MiB -40415.1 MiB      117407   \n",
      "    16     79.1 MiB -40416.0 MiB      117407       Returns:\n",
      "    17     79.1 MiB -40417.2 MiB      117407           List[Tuple[datetime.date, str]]: Lista de tuplas donde cada tupla contiene \n",
      "    18                                                 una fecha y el nombre de usuario que más tweets tiene en esa fecha.\n",
      "    19     79.1 MiB -40416.2 MiB      117407       \"\"\"\n",
      "    20                                             \n",
      "    21     79.1 MiB      0.0 MiB           1       date_user_count = Counter()  # Usar Counter para contar usuarios por fecha\n",
      "    22     79.1 MiB      0.0 MiB          14       \n",
      "    23     79.1 MiB      0.0 MiB          13       try:\n",
      "    24     79.1 MiB      0.0 MiB          13           with open(file_path, 'r', encoding='utf-8') as f:\n",
      "    25                                                     for line in f:\n",
      "    26     79.1 MiB      0.0 MiB          27                   tweet = json.loads(line)\n",
      "    27     79.1 MiB      0.0 MiB           1                   tweet_date_str = tweet['date']\n",
      "    28                                                         tweet_date = datetime.fromisoformat(tweet_date_str).date()\n",
      "    29                                                         tweet_user = tweet['user']['username']\n",
      "    30                                                         \n",
      "    31                                                         # Se utiliza un tuple (fecha, usuario) para contar\n",
      "    32                                                         date_user_count[(tweet_date, tweet_user)] += 1\n",
      "    33                                                 \n",
      "    34                                                 # Agrupamos resultados por fecha y encontramos el usuario más activo\n",
      "    35                                                 results = []\n",
      "    36                                                 date_counter = Counter()  # Para contar tweets por fecha\n",
      "    37                                                 for (date, user), count in date_user_count.items():\n",
      "    38                                                     date_counter[date] += count  # Sumar el conteo de tweets por fecha\n",
      "    39                                                     if user not in [u for d, u in results if d == date]:  # Asegura que solo se agregue el usuario más activo\n",
      "    40                                                         results.append((date, user))\n",
      "    41                                         \n",
      "    42                                                 # Encontrar el usuario más activo para cada fecha\n",
      "    43                                                 final_results = []\n",
      "    44                                                 for date in date_counter:\n",
      "    45                                                     top_user = max([(user, date_user_count[(date, user)]) for user in results if user[0] == date], key=lambda x: x[1])[0]\n",
      "    46                                                     final_results.append((date, top_user))\n",
      "    47                                                 \n",
      "    48                                                 # Ordenar los resultados y devolver las 10 primeras fechas\n",
      "    49                                                 final_results.sort(key=lambda x: date_counter[x[0]], reverse=True)\n",
      "    50                                                 return final_results[:10]\n",
      "    51                                             \n",
      "    52                                             except Exception as e:\n",
      "    53                                                 print(f\"Error al procesar el archivo: {e}\")\n",
      "    54                                                 return []\n",
      "\n",
      "\n",
      "Top 10 fechas con más tweets y el usuario más activo (medido en memoria):\n",
      "Fecha: 2021-02-19, Usuario: Preetm91\n",
      "Fecha: 2021-02-18, Usuario: neetuanjle_nitu\n",
      "Fecha: 2021-02-17, Usuario: RaaJVinderkaur\n",
      "Fecha: 2021-02-13, Usuario: MaanDee08215437\n",
      "Fecha: 2021-02-12, Usuario: RanbirS00614606\n",
      "Fecha: 2021-02-21, Usuario: Surrypuria\n",
      "Fecha: 2021-02-23, Usuario: Surrypuria\n",
      "Fecha: 2021-02-15, Usuario: jot__b\n",
      "Fecha: 2021-02-16, Usuario: jot__b\n",
      "Fecha: 2021-02-14, Usuario: rebelpacifist\n"
     ]
    }
   ],
   "source": [
    "from q1_time import q1_time\n",
    "from q1_memory import q1_memory\n",
    "# Empezamos por probar la función de el tiempo...\n",
    "print(\"Ejecutando q1_time\")\n",
    "top_dates_time = q1_time(file_path)\n",
    "print(\"Top 10 fechas con más tweets y el usuario más activo:\")\n",
    "for date, user in top_dates_time:\n",
    "    print(f\"Fecha: {date}, Usuario: {user}\")\n",
    "\n",
    "# Probar la función de memoria...\n",
    "print(\"\\n Probando q1_memory\")\n",
    "top_dates_memory = q1_memory(file_path)\n",
    "print(\"Top 10 fechas con más tweets y el usuario más activo (medido en memoria):\")\n",
    "for date, user in top_dates_memory:\n",
    "    print(f\"Fecha: {date}, Usuario: {user}\")\n"
   ]
  },
  {
   "cell_type": "markdown",
   "metadata": {},
   "source": [
    "Dando un resultado de 4.20 seg y un aumento de memoria de 78.6 MiB a 79.6 MiB doy por terminado el ejericicio numero 1 habiendo sacado una mejora considerable y un tiempo standard de resultados esperados"
   ]
  },
  {
   "cell_type": "markdown",
   "metadata": {},
   "source": [
    "Ejercicio numero 2\n",
    "\n"
   ]
  },
  {
   "cell_type": "markdown",
   "metadata": {},
   "source": [
    "Para la correcta codificacion de los componentes \"emoji\" encontre necesario instalar una libreria que pudiera identificar de una manera mas certera el numero de emojis pudiera codificarlos y entregar una respuesta formatiada con el emoji esperado esto hace una gran mejora en exactitud y el resultado es el esperado segun los emojis colocados en el readme, fue ingresada la libreria emoji dentro de los requirements como era esperado \n",
    "\n",
    "\n",
    "en esta funcion tambien se implementa counter como la mejor opcion para contar las collections para detectar los emojis, mantenemos las buenas practticas y el uso de la codificacion de utf-8 junto con el manejo de errores \n",
    "\n",
    "en el time tambien mantenemos el enfoque de instalar paquetes para contar el tiempo de ejecucion de la aplicacion ideal para la eliminacion de cuellos de botella en el codigo "
   ]
  },
  {
   "cell_type": "code",
   "execution_count": 6,
   "metadata": {},
   "outputs": [
    {
     "name": "stdout",
     "output_type": "stream",
     "text": [
      "Ejecutando q2_time...\n",
      "Tiempo de ejecución: 5.96 segundos\n",
      "Top emojis (q2_time): [('🙏', 7286), ('😂', 3072), ('🚜', 2972), ('✊', 2411), ('🌾', 2363), ('🏻', 2080), ('❤', 1779), ('🤣', 1668), ('🏽', 1218), ('👇', 1108)]\n",
      "Ejecutando q2_memory...\n",
      "Top emojis (q2_memory): [('🙏', 7286), ('😂', 3072), ('🚜', 2972), ('✊', 2411), ('🌾', 2363), ('🏻', 2080), ('❤', 1779), ('🤣', 1668), ('🏽', 1218), ('👇', 1108)]\n"
     ]
    }
   ],
   "source": [
    "from q2_time import q2_time\n",
    "from q2_memory import q2_memory\n",
    "\n",
    "\n",
    "# Ejecutar y mostrar resultados de q2_time\n",
    "print(\"Ejecutando q2_time...\")\n",
    "top_emojis_time = q2_time(file_path)\n",
    "print(\"Top emojis (q2_time):\", top_emojis_time)\n",
    "\n",
    "# Ejecutar y mostrar resultados de q2_memory\n",
    "print(\"Ejecutando q2_memory...\")\n",
    "top_emojis_memory = q2_memory(file_path)\n",
    "print(\"Top emojis (q2_memory):\", top_emojis_memory)"
   ]
  },
  {
   "cell_type": "markdown",
   "metadata": {},
   "source": [
    "Ejercicio 3\n"
   ]
  },
  {
   "cell_type": "markdown",
   "metadata": {},
   "source": [
    "En el desarrollo del problema 3 se siguen los mismos conceptos utilizando counter para contar de manera mas eficiente la diferencia radica en identificar los @ que son los llamadas menciones para poder contarlas, antes de eso se codifica la informacion en utf-8 para que no haya problemas al momento de capturar los caracteres \n",
    "\n",
    "se mantiene la estructura del manejo de errores\n",
    "\n",
    "en el caso de time es similar utilizando los paquetes para medir el tiempo de ejecucion\n",
    "junto con el counter se utiliza un temporizador (start_time)\n",
    "\n",
    "abordando asi los distintos enfoques del desarrollo"
   ]
  },
  {
   "cell_type": "code",
   "execution_count": 4,
   "metadata": {},
   "outputs": [
    {
     "name": "stdout",
     "output_type": "stream",
     "text": [
      "Ejecutando q3_time...\n",
      "Tiempo de ejecución: 5.13 segundos\n",
      "Top usuarios (q3_time): [('narendramodi', 2201), ('Kisanektamorcha', 1822), ('RakeshTikaitBKU', 1599), ('PMOIndia', 1387), ('RahulGandhi', 1093), ('RaviSinghKA', 1002), ('GretaThunberg', 999), ('UNHumanRights', 956), ('rihanna', 944), ('meenaharris', 911)]\n",
      "Ejecutando q3_memory...\n",
      "Top usuarios (q3_memory): [('narendramodi', 2201), ('Kisanektamorcha', 1822), ('RakeshTikaitBKU', 1599), ('PMOIndia', 1387), ('RahulGandhi', 1093), ('RaviSinghKA', 1002), ('GretaThunberg', 999), ('UNHumanRights', 956), ('rihanna', 944), ('meenaharris', 911)]\n"
     ]
    }
   ],
   "source": [
    "from q3_time import q3_time\n",
    "from q3_memory import q3_memory\n",
    "\n",
    "print(\"Ejecutando q3_time...\")\n",
    "top_users_time = q3_time(file_path)\n",
    "print(\"Top usuarios (q3_time):\", top_users_time)\n",
    "\n",
    "print(\"Ejecutando q3_memory...\")\n",
    "top_users_memory = q3_memory(file_path)\n",
    "print(\"Top usuarios (q3_memory):\", top_users_memory)\n"
   ]
  }
 ],
 "metadata": {
  "kernelspec": {
   "display_name": "Python 3",
   "language": "python",
   "name": "python3"
  },
  "language_info": {
   "codemirror_mode": {
    "name": "ipython",
    "version": 3
   },
   "file_extension": ".py",
   "mimetype": "text/x-python",
   "name": "python",
   "nbconvert_exporter": "python",
   "pygments_lexer": "ipython3",
   "version": "3.12.6"
  },
  "orig_nbformat": 4
 },
 "nbformat": 4,
 "nbformat_minor": 2
}
