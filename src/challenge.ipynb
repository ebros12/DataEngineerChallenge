{
 "cells": [
  {
   "cell_type": "markdown",
   "metadata": {},
   "source": [
    "En este archivo puedes escribir lo que estimes conveniente. Te recomendamos detallar tu solución y todas las suposiciones que estás considerando. Aquí puedes ejecutar las funciones que definiste en los otros archivos de la carpeta src, medir el tiempo, memoria, etc."
   ]
  },
  {
   "cell_type": "code",
   "execution_count": 1,
   "metadata": {},
   "outputs": [],
   "source": [
    "file_path = \"farmers-protest-tweets-2021-2-4.json\""
   ]
  },
  {
   "cell_type": "markdown",
   "metadata": {},
   "source": [
    "El objetivo de este algoritmo es identificar las top 10 fechas con más tweets y el usuario más activo en esas fechas. Para ello, se creo un algoritmo para el procesado de los tweets al usar las herramientas sugeridas se realizó un análisis de uso de memoria y tiempo de ejecución.\n",
    "\n",
    "El inicio de memoria fue de 55.9 MB y se estabilizó en 61.6 MB, lo que sugiere un aumento moderado en el uso de memoria a medida que se procesan los datos. La línea que procesa los tweets (json.loads(line)) se ejecutó 117,408 veces, indicando un volumen considerable de datos. El tiempo total de ejecución fue de 37.033 segundos, lo que sugiere la presencia de un cuello de botella.\n",
    "\n",
    "Para optimizar el rendimiento del algoritmo, propongo las siguientes mejoras:\n",
    "\n",
    "Leer por bloques: Esto puede ayudar a reducir el uso de memoria al evitar cargar todo el archivo en memoria.\n",
    "Usar Counter en lugar de defaultdict: Esto puede simplificar el código y mejorar el rendimiento.\n",
    "Filtrar por fechas y usuarios: Dado que solo necesitamos las fechas más activas, contar las fechas primero y luego procesar esas fechas para obtener los usuarios más activos puede ser más eficiente.\n",
    "En resumen, estas optimizaciones pueden resultar en un uso de memoria más eficiente y una mejora en el tiempo de ejecución."
   ]
  },
  {
   "cell_type": "code",
   "execution_count": 2,
   "metadata": {},
   "outputs": [
    {
     "name": "stdout",
     "output_type": "stream",
     "text": [
      "Ejecutando q1_time\n",
      "Tiempo de ejecución: 4.12 segundos\n",
      "Top 10 fechas con más tweets y el usuario más activo:\n",
      "Fecha: 2021-02-19, Usuario: Preetm91\n",
      "Fecha: 2021-02-18, Usuario: neetuanjle_nitu\n",
      "Fecha: 2021-02-17, Usuario: RaaJVinderkaur\n",
      "Fecha: 2021-02-13, Usuario: MaanDee08215437\n",
      "Fecha: 2021-02-12, Usuario: RanbirS00614606\n",
      "Fecha: 2021-02-21, Usuario: Surrypuria\n",
      "Fecha: 2021-02-23, Usuario: Surrypuria\n",
      "Fecha: 2021-02-15, Usuario: jot__b\n",
      "Fecha: 2021-02-16, Usuario: jot__b\n",
      "Fecha: 2021-02-14, Usuario: rebelpacifist\n",
      "\n",
      " Probando q1_memory\n",
      "Error al procesar el archivo: Expecting value: line 1 column 1 (char 0)\n",
      "Filename: c:\\Users\\011101011110\\Desktop\\prueba\\src\\q1_memory.py\n",
      "\n",
      "Line #    Mem usage    Increment  Occurrences   Line Contents\n",
      "=============================================================\n",
      "     9     74.9 MiB     74.9 MiB           1   @profile\n",
      "    10                                         def q1_memory(file_path: str, block_size: int = 1024) -> List[Tuple[datetime.date, str]]:\n",
      "    11                                             \n",
      "    12                                             \"\"\" \n",
      "    13                                             Procesa un archivo de tweets y devuelve las 10 fechas con más tweets,\n",
      "    14                                             junto con el usuario más activo en cada una de esas fechas.\n",
      "    15                                         \n",
      "    16                                             Args:\n",
      "    17                                                 file_path (str): Ruta al archivo JSON que contiene los tweets.\n",
      "    18                                                 block_size (int): Tamaño del bloque de líneas a leer.\n",
      "    19                                         \n",
      "    20                                             Returns:\n",
      "    21                                                 List[Tuple[datetime.date, str]]: Lista de tuplas donde cada tupla contiene \n",
      "    22                                                 una fecha y el nombre de usuario que más tweets tiene en esa fecha.\n",
      "    23                                             \"\"\"\n",
      "    24                                             \n",
      "    25     74.9 MiB      0.0 MiB           1       date_user_count = {}\n",
      "    26                                         \n",
      "    27     74.9 MiB      0.0 MiB           1       try:\n",
      "    28     81.2 MiB     -2.1 MiB           2           with open(file_path, 'r', encoding='utf-8') as f:\n",
      "    29     83.3 MiB    -58.9 MiB         115               while True:\n",
      "    30                                                         # Lee un bloque de líneas\n",
      "    31     84.2 MiB -121475.5 MiB      117875                   lines = [f.readline() for _ in range(block_size)]\n",
      "    32     83.3 MiB   -161.0 MiB         115                   if not lines:  # Salir si no hay más líneas\n",
      "    33                                                             break\n",
      "    34     83.3 MiB -60067.7 MiB      117522                   for line in lines:\n",
      "    35     83.3 MiB -60012.6 MiB      117408                       tweet = json.loads(line)  # Convierte la línea JSON a un objeto Python\n",
      "    36     83.3 MiB -60011.2 MiB      117407                       tweet_date_str = tweet['date']  # Extrae la fecha del tweet\n",
      "    37     83.3 MiB -60012.3 MiB      117407                       tweet_date = datetime.fromisoformat(tweet_date_str).date()  # Convierte la cadena de fecha a un objeto date\n",
      "    38     83.3 MiB -60013.8 MiB      117407                       tweet_user = tweet['user']['username']  # Extrae el nombre de usuario\n",
      "    39                                                             \n",
      "    40                                                             # Filtra aquí si es necesario\n",
      "    41     83.3 MiB -60014.8 MiB      117407                       if tweet_date and tweet_user:  # Filtra solo si hay fecha y usuario\n",
      "    42     83.3 MiB -60015.4 MiB      117407                           if tweet_date not in date_user_count:\n",
      "    43     82.5 MiB     -6.8 MiB          13                               date_user_count[tweet_date] = Counter()\n",
      "    44     83.3 MiB -60010.3 MiB      117407                           date_user_count[tweet_date][tweet_user] += 1  # Incrementa el conteo de tweets para el usuario\n",
      "    45                                         \n",
      "    46                                                 results = []\n",
      "    47                                                 for date, users in date_user_count.items():\n",
      "    48                                                     top_user = users.most_common(1)[0][0]  # Encuentra el usuario con más tweets en la fecha\n",
      "    49                                                     results.append((date, top_user))\n",
      "    50                                         \n",
      "    51                                                 # Ordena los resultados por la cantidad de tweets en orden descendente y devuelve las 10 primeras\n",
      "    52                                                 results.sort(key=lambda x: date_user_count[x[0]][x[1]], reverse=True)\n",
      "    53                                                 return results[:10]\n",
      "    54                                         \n",
      "    55     81.2 MiB      0.0 MiB           1       except Exception as e:\n",
      "    56     81.2 MiB      0.0 MiB           1           print(f\"Error al procesar el archivo: {e}\")\n",
      "    57     81.2 MiB      0.0 MiB           1           return []\n",
      "\n",
      "\n",
      "Top 10 fechas con más tweets y el usuario más activo (medido en memoria):\n"
     ]
    }
   ],
   "source": [
    "from q1_time import q1_time\n",
    "from q1_memory import q1_memory\n",
    "# Empezamos por probar la función de el tiempo...\n",
    "print(\"Ejecutando q1_time\")\n",
    "top_dates_time = q1_time(file_path)\n",
    "print(\"Top 10 fechas con más tweets y el usuario más activo:\")\n",
    "for date, user in top_dates_time:\n",
    "    print(f\"Fecha: {date}, Usuario: {user}\")\n",
    "\n",
    "# Probar la función de memoria...\n",
    "print(\"\\n Probando q1_memory\")\n",
    "top_dates_memory = q1_memory(file_path)\n",
    "print(\"Top 10 fechas con más tweets y el usuario más activo (medido en memoria):\")\n",
    "for date, user in top_dates_memory:\n",
    "    print(f\"Fecha: {date}, Usuario: {user}\")\n"
   ]
  },
  {
   "cell_type": "markdown",
   "metadata": {},
   "source": [
    "Dando un resultado de 4.20 seg y un aumento de memoria de 78.6 MiB a 79.6 MiB doy por terminado el ejericicio numero 1 habiendo sacado una mejora considerable y un tiempo standard de resultados esperados"
   ]
  },
  {
   "cell_type": "markdown",
   "metadata": {},
   "source": [
    "Ejercicio numero 2\n",
    "\n"
   ]
  },
  {
   "cell_type": "markdown",
   "metadata": {},
   "source": [
    "Para la correcta codificacion de los componentes \"emoji\" encontre necesario instalar una libreria que pudiera identificar de una manera mas certera el numero de emojis pudiera codificarlos y entregar una respuesta formatiada con el emoji esperado esto hace una gran mejora en exactitud y el resultado es el esperado segun los emojis colocados en el readme, fue ingresada la libreria emoji dentro de los requirements como era esperado "
   ]
  },
  {
   "cell_type": "code",
   "execution_count": 7,
   "metadata": {},
   "outputs": [
    {
     "name": "stdout",
     "output_type": "stream",
     "text": [
      "Ejecutando q2_time...\n",
      "Tiempo de ejecución: 5.85 segundos\n",
      "Top emojis (q2_time): [('🙏', 7286), ('😂', 3072), ('🚜', 2972), ('✊', 2411), ('🌾', 2363), ('🏻', 2080), ('❤', 1779), ('🤣', 1668), ('🏽', 1218), ('👇', 1108)]\n",
      "Ejecutando q2_memory...\n",
      "Top emojis (q2_memory): [('🙏', 7286), ('😂', 3072), ('🚜', 2972), ('✊', 2411), ('🌾', 2363), ('🏻', 2080), ('❤', 1779), ('🤣', 1668), ('🏽', 1218), ('👇', 1108)]\n"
     ]
    }
   ],
   "source": [
    "from q2_time import q2_time\n",
    "from q2_memory import q2_memory\n",
    "\n",
    "\n",
    "# Ejecutar y mostrar resultados de q2_time\n",
    "print(\"Ejecutando q2_time...\")\n",
    "top_emojis_time = q2_time(file_path)\n",
    "print(\"Top emojis (q2_time):\", top_emojis_time)\n",
    "\n",
    "# Ejecutar y mostrar resultados de q2_memory\n",
    "print(\"Ejecutando q2_memory...\")\n",
    "top_emojis_memory = q2_memory(file_path)\n",
    "print(\"Top emojis (q2_memory):\", top_emojis_memory)\n"
   ]
  }
 ],
 "metadata": {
  "kernelspec": {
   "display_name": "Python 3",
   "language": "python",
   "name": "python3"
  },
  "language_info": {
   "codemirror_mode": {
    "name": "ipython",
    "version": 3
   },
   "file_extension": ".py",
   "mimetype": "text/x-python",
   "name": "python",
   "nbconvert_exporter": "python",
   "pygments_lexer": "ipython3",
   "version": "3.12.6"
  },
  "orig_nbformat": 4
 },
 "nbformat": 4,
 "nbformat_minor": 2
}
