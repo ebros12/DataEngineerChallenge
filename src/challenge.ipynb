{
 "cells": [
  {
   "cell_type": "markdown",
   "metadata": {},
   "source": [
    "En este archivo puedes escribir lo que estimes conveniente. Te recomendamos detallar tu solución y todas las suposiciones que estás considerando. Aquí puedes ejecutar las funciones que definiste en los otros archivos de la carpeta src, medir el tiempo, memoria, etc."
   ]
  },
  {
   "cell_type": "code",
   "execution_count": 2,
   "metadata": {},
   "outputs": [],
   "source": [
    "file_path = \"farmers-protest-tweets-2021-2-4.json\""
   ]
  },
  {
   "cell_type": "markdown",
   "metadata": {},
   "source": [
    "El objetivo de este algoritmo es identificar las top 10 fechas con más tweets y el usuario más activo en esas fechas. Para ello, se creo un algoritmo para el procesado de los twwts al usar las herramientas sugeridas se realizó un análisis de uso de memoria y tiempo de ejecución.\n",
    "\n",
    "El inicio de memoria fue de 55.9 MB y se estabilizó en 61.6 MB, lo que sugiere un aumento moderado en el uso de memoria a medida que se procesan los datos. La línea que procesa los tweets (json.loads(line)) se ejecutó 117,408 veces, indicando un volumen considerable de datos. El tiempo total de ejecución fue de 37.033 segundos, lo que sugiere la presencia de un cuello de botella.\n",
    "\n",
    "Para optimizar el rendimiento del algoritmo, propongo las siguientes mejoras:\n",
    "\n",
    "Leer por bloques: Esto puede ayudar a reducir el uso de memoria al evitar cargar todo el archivo en memoria.\n",
    "Usar Counter en lugar de defaultdict: Esto puede simplificar el código y mejorar el rendimiento.\n",
    "Filtrar por fechas y usuarios: Dado que solo necesitamos las fechas más activas, contar las fechas primero y luego procesar esas fechas para obtener los usuarios más activos puede ser más eficiente.\n",
    "En resumen, estas optimizaciones pueden resultar en un uso de memoria más eficiente y una mejora en el tiempo de ejecución."
   ]
  },
  {
   "cell_type": "code",
   "execution_count": 4,
   "metadata": {},
   "outputs": [
    {
     "name": "stdout",
     "output_type": "stream",
     "text": [
      "Probando q1_time...\n",
      "Tiempo de ejecución: 4.20 segundos\n",
      "Top 10 fechas con más tweets y el usuario más activo:\n",
      "Fecha: 2021-02-19, Usuario: Preetm91\n",
      "Fecha: 2021-02-18, Usuario: neetuanjle_nitu\n",
      "Fecha: 2021-02-17, Usuario: RaaJVinderkaur\n",
      "Fecha: 2021-02-13, Usuario: MaanDee08215437\n",
      "Fecha: 2021-02-12, Usuario: RanbirS00614606\n",
      "Fecha: 2021-02-21, Usuario: Surrypuria\n",
      "Fecha: 2021-02-23, Usuario: Surrypuria\n",
      "Fecha: 2021-02-15, Usuario: jot__b\n",
      "Fecha: 2021-02-16, Usuario: jot__b\n",
      "Fecha: 2021-02-14, Usuario: rebelpacifist\n",
      "\n",
      "Probando q1_memory...\n",
      "Filename: c:\\Users\\011101011110\\Desktop\\prueba\\src\\q1_memory.py\n",
      "\n",
      "Line #    Mem usage    Increment  Occurrences   Line Contents\n",
      "=============================================================\n",
      "     7     78.6 MiB     78.6 MiB           1   @profile\n",
      "     8                                         def q1_memory(file_path: str) -> List[Tuple[datetime.date, str]]:\n",
      "     9     79.3 MiB     -5.0 MiB          27       date_user_count = defaultdict(lambda: defaultdict(int))\n",
      "    10                                         \n",
      "    11     78.6 MiB      0.0 MiB           1       try:\n",
      "    12     79.6 MiB      0.0 MiB           2           with open(file_path, 'r', encoding='utf-8') as f:\n",
      "    13     79.6 MiB -20296.3 MiB      117408               for line in f:\n",
      "    14     79.6 MiB -20296.5 MiB      117407                   tweet = json.loads(line)\n",
      "    15     79.6 MiB -20297.7 MiB      117407                   tweet_date_str = tweet['date']\n",
      "    16     79.6 MiB -20298.5 MiB      117407                   tweet_date = datetime.fromisoformat(tweet_date_str).date()\n",
      "    17     79.6 MiB -20299.3 MiB      117407                   tweet_user = tweet['user']['username']\n",
      "    18     79.6 MiB -20298.5 MiB      117407                   date_user_count[tweet_date][tweet_user] += 1\n",
      "    19                                         \n",
      "    20     79.6 MiB      0.0 MiB           1           results = []\n",
      "    21     79.6 MiB      0.0 MiB          14           for date, users in date_user_count.items():\n",
      "    22     79.6 MiB      0.0 MiB          13               top_user = max(users, key=users.get)\n",
      "    23     79.6 MiB      0.0 MiB          13               results.append((date, top_user))\n",
      "    24                                         \n",
      "    25     79.6 MiB      0.0 MiB          27           results.sort(key=lambda x: date_user_count[x[0]][x[1]], reverse=True)\n",
      "    26     79.6 MiB      0.0 MiB           1           return results[:10]\n",
      "    27                                         \n",
      "    28                                             except Exception as e:\n",
      "    29                                                 print(f\"Error al procesar el archivo: {e}\")\n",
      "    30                                                 return []\n",
      "\n",
      "\n",
      "Top 10 fechas con más tweets y el usuario más activo (medido en memoria):\n",
      "Fecha: 2021-02-19, Usuario: Preetm91\n",
      "Fecha: 2021-02-18, Usuario: neetuanjle_nitu\n",
      "Fecha: 2021-02-17, Usuario: RaaJVinderkaur\n",
      "Fecha: 2021-02-13, Usuario: MaanDee08215437\n",
      "Fecha: 2021-02-12, Usuario: RanbirS00614606\n",
      "Fecha: 2021-02-21, Usuario: Surrypuria\n",
      "Fecha: 2021-02-23, Usuario: Surrypuria\n",
      "Fecha: 2021-02-15, Usuario: jot__b\n",
      "Fecha: 2021-02-16, Usuario: jot__b\n",
      "Fecha: 2021-02-14, Usuario: rebelpacifist\n"
     ]
    }
   ],
   "source": [
    "from datetime import datetime\n",
    "from q1_time import q1_time\n",
    "from q1_memory import q1_memory\n",
    "\n",
    "# Probar la función de tiempo\n",
    "print(\"Probando q1_time...\")\n",
    "top_dates_time = q1_time(file_path)\n",
    "print(\"Top 10 fechas con más tweets y el usuario más activo:\")\n",
    "for date, user in top_dates_time:\n",
    "    print(f\"Fecha: {date}, Usuario: {user}\")\n",
    "\n",
    "# Probar la función de memoria\n",
    "print(\"\\nProbando q1_memory...\")\n",
    "top_dates_memory = q1_memory(file_path)\n",
    "print(\"Top 10 fechas con más tweets y el usuario más activo (medido en memoria):\")\n",
    "for date, user in top_dates_memory:\n",
    "    print(f\"Fecha: {date}, Usuario: {user}\")\n"
   ]
  },
  {
   "cell_type": "markdown",
   "metadata": {},
   "source": [
    "Dando un resultado de 4.20 seg y un aumentod e memoria de 78.6 MiB a 79.6 MiB doy por terminado el ejericicio numero 1 habiendo sacado una mejora considerable y un tiempo standard de resultados esperados"
   ]
  }
 ],
 "metadata": {
  "kernelspec": {
   "display_name": "Python 3",
   "language": "python",
   "name": "python3"
  },
  "language_info": {
   "codemirror_mode": {
    "name": "ipython",
    "version": 3
   },
   "file_extension": ".py",
   "mimetype": "text/x-python",
   "name": "python",
   "nbconvert_exporter": "python",
   "pygments_lexer": "ipython3",
   "version": "3.12.6"
  },
  "orig_nbformat": 4
 },
 "nbformat": 4,
 "nbformat_minor": 2
}
